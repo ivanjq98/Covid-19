{
 "cells": [
  {
   "cell_type": "code",
   "execution_count": 1,
   "id": "ad1cb88e",
   "metadata": {},
   "outputs": [],
   "source": [
    "import pandas as pd \n",
    "import datetime\n",
    "import requests\n",
    "import csv\n",
    "from openpyxl import Workbook, load_workbook\n",
    "from io import StringIO\n",
    "from functools import reduce"
   ]
  },
  {
   "cell_type": "code",
   "execution_count": 2,
   "id": "0eea34f3",
   "metadata": {},
   "outputs": [],
   "source": [
    "res = requests.get('https://api.covidtracking.com/v1/states/info.csv')\n",
    "data = StringIO(res.text)\n",
    "StateInfo = pd.read_csv(data)"
   ]
  },
  {
   "cell_type": "code",
   "execution_count": 3,
   "id": "9732231b",
   "metadata": {},
   "outputs": [
    {
     "ename": "ImportError",
     "evalue": "html5lib not found, please install it",
     "output_type": "error",
     "traceback": [
      "\u001b[1;31m---------------------------------------------------------------------------\u001b[0m",
      "\u001b[1;31mImportError\u001b[0m                               Traceback (most recent call last)",
      "Input \u001b[1;32mIn [3]\u001b[0m, in \u001b[0;36m<cell line: 6>\u001b[1;34m()\u001b[0m\n\u001b[0;32m      4\u001b[0m StateCoordinates \u001b[38;5;241m=\u001b[39m StateCoordinates[\u001b[38;5;241m0\u001b[39m]\n\u001b[0;32m      5\u001b[0m StateInfo \u001b[38;5;241m=\u001b[39m pd\u001b[38;5;241m.\u001b[39mmerge(StateCoordinates, StateInfo, on \u001b[38;5;241m=\u001b[39m \u001b[38;5;124m'\u001b[39m\u001b[38;5;124mstate\u001b[39m\u001b[38;5;124m'\u001b[39m)\n\u001b[1;32m----> 6\u001b[0m StatePopulation \u001b[38;5;241m=\u001b[39m \u001b[43mpd\u001b[49m\u001b[38;5;241;43m.\u001b[39;49m\u001b[43mread_html\u001b[49m\u001b[43m(\u001b[49m\u001b[38;5;124;43m'\u001b[39;49m\u001b[38;5;124;43mhttps://www.infoplease.com/us/states/state-population-by-rank\u001b[39;49m\u001b[38;5;124;43m'\u001b[39;49m\u001b[43m)\u001b[49m\n\u001b[0;32m      7\u001b[0m StatePopulation \u001b[38;5;241m=\u001b[39m StatePopulation[\u001b[38;5;241m0\u001b[39m]\n\u001b[0;32m      8\u001b[0m StatePopulation \u001b[38;5;241m=\u001b[39m StatePopulation\u001b[38;5;241m.\u001b[39mrename(columns \u001b[38;5;241m=\u001b[39m {\u001b[38;5;124m'\u001b[39m\u001b[38;5;124mState\u001b[39m\u001b[38;5;124m'\u001b[39m:\u001b[38;5;124m'\u001b[39m\u001b[38;5;124mname_y\u001b[39m\u001b[38;5;124m'\u001b[39m})\n",
      "File \u001b[1;32m~\\anaconda3\\lib\\site-packages\\pandas\\util\\_decorators.py:311\u001b[0m, in \u001b[0;36mdeprecate_nonkeyword_arguments.<locals>.decorate.<locals>.wrapper\u001b[1;34m(*args, **kwargs)\u001b[0m\n\u001b[0;32m    305\u001b[0m \u001b[38;5;28;01mif\u001b[39;00m \u001b[38;5;28mlen\u001b[39m(args) \u001b[38;5;241m>\u001b[39m num_allow_args:\n\u001b[0;32m    306\u001b[0m     warnings\u001b[38;5;241m.\u001b[39mwarn(\n\u001b[0;32m    307\u001b[0m         msg\u001b[38;5;241m.\u001b[39mformat(arguments\u001b[38;5;241m=\u001b[39marguments),\n\u001b[0;32m    308\u001b[0m         \u001b[38;5;167;01mFutureWarning\u001b[39;00m,\n\u001b[0;32m    309\u001b[0m         stacklevel\u001b[38;5;241m=\u001b[39mstacklevel,\n\u001b[0;32m    310\u001b[0m     )\n\u001b[1;32m--> 311\u001b[0m \u001b[38;5;28;01mreturn\u001b[39;00m func(\u001b[38;5;241m*\u001b[39margs, \u001b[38;5;241m*\u001b[39m\u001b[38;5;241m*\u001b[39mkwargs)\n",
      "File \u001b[1;32m~\\anaconda3\\lib\\site-packages\\pandas\\io\\html.py:1113\u001b[0m, in \u001b[0;36mread_html\u001b[1;34m(io, match, flavor, header, index_col, skiprows, attrs, parse_dates, thousands, encoding, decimal, converters, na_values, keep_default_na, displayed_only)\u001b[0m\n\u001b[0;32m   1109\u001b[0m validate_header_arg(header)\n\u001b[0;32m   1111\u001b[0m io \u001b[38;5;241m=\u001b[39m stringify_path(io)\n\u001b[1;32m-> 1113\u001b[0m \u001b[38;5;28;01mreturn\u001b[39;00m \u001b[43m_parse\u001b[49m\u001b[43m(\u001b[49m\n\u001b[0;32m   1114\u001b[0m \u001b[43m    \u001b[49m\u001b[43mflavor\u001b[49m\u001b[38;5;241;43m=\u001b[39;49m\u001b[43mflavor\u001b[49m\u001b[43m,\u001b[49m\n\u001b[0;32m   1115\u001b[0m \u001b[43m    \u001b[49m\u001b[43mio\u001b[49m\u001b[38;5;241;43m=\u001b[39;49m\u001b[43mio\u001b[49m\u001b[43m,\u001b[49m\n\u001b[0;32m   1116\u001b[0m \u001b[43m    \u001b[49m\u001b[43mmatch\u001b[49m\u001b[38;5;241;43m=\u001b[39;49m\u001b[43mmatch\u001b[49m\u001b[43m,\u001b[49m\n\u001b[0;32m   1117\u001b[0m \u001b[43m    \u001b[49m\u001b[43mheader\u001b[49m\u001b[38;5;241;43m=\u001b[39;49m\u001b[43mheader\u001b[49m\u001b[43m,\u001b[49m\n\u001b[0;32m   1118\u001b[0m \u001b[43m    \u001b[49m\u001b[43mindex_col\u001b[49m\u001b[38;5;241;43m=\u001b[39;49m\u001b[43mindex_col\u001b[49m\u001b[43m,\u001b[49m\n\u001b[0;32m   1119\u001b[0m \u001b[43m    \u001b[49m\u001b[43mskiprows\u001b[49m\u001b[38;5;241;43m=\u001b[39;49m\u001b[43mskiprows\u001b[49m\u001b[43m,\u001b[49m\n\u001b[0;32m   1120\u001b[0m \u001b[43m    \u001b[49m\u001b[43mparse_dates\u001b[49m\u001b[38;5;241;43m=\u001b[39;49m\u001b[43mparse_dates\u001b[49m\u001b[43m,\u001b[49m\n\u001b[0;32m   1121\u001b[0m \u001b[43m    \u001b[49m\u001b[43mthousands\u001b[49m\u001b[38;5;241;43m=\u001b[39;49m\u001b[43mthousands\u001b[49m\u001b[43m,\u001b[49m\n\u001b[0;32m   1122\u001b[0m \u001b[43m    \u001b[49m\u001b[43mattrs\u001b[49m\u001b[38;5;241;43m=\u001b[39;49m\u001b[43mattrs\u001b[49m\u001b[43m,\u001b[49m\n\u001b[0;32m   1123\u001b[0m \u001b[43m    \u001b[49m\u001b[43mencoding\u001b[49m\u001b[38;5;241;43m=\u001b[39;49m\u001b[43mencoding\u001b[49m\u001b[43m,\u001b[49m\n\u001b[0;32m   1124\u001b[0m \u001b[43m    \u001b[49m\u001b[43mdecimal\u001b[49m\u001b[38;5;241;43m=\u001b[39;49m\u001b[43mdecimal\u001b[49m\u001b[43m,\u001b[49m\n\u001b[0;32m   1125\u001b[0m \u001b[43m    \u001b[49m\u001b[43mconverters\u001b[49m\u001b[38;5;241;43m=\u001b[39;49m\u001b[43mconverters\u001b[49m\u001b[43m,\u001b[49m\n\u001b[0;32m   1126\u001b[0m \u001b[43m    \u001b[49m\u001b[43mna_values\u001b[49m\u001b[38;5;241;43m=\u001b[39;49m\u001b[43mna_values\u001b[49m\u001b[43m,\u001b[49m\n\u001b[0;32m   1127\u001b[0m \u001b[43m    \u001b[49m\u001b[43mkeep_default_na\u001b[49m\u001b[38;5;241;43m=\u001b[39;49m\u001b[43mkeep_default_na\u001b[49m\u001b[43m,\u001b[49m\n\u001b[0;32m   1128\u001b[0m \u001b[43m    \u001b[49m\u001b[43mdisplayed_only\u001b[49m\u001b[38;5;241;43m=\u001b[39;49m\u001b[43mdisplayed_only\u001b[49m\u001b[43m,\u001b[49m\n\u001b[0;32m   1129\u001b[0m \u001b[43m\u001b[49m\u001b[43m)\u001b[49m\n",
      "File \u001b[1;32m~\\anaconda3\\lib\\site-packages\\pandas\\io\\html.py:915\u001b[0m, in \u001b[0;36m_parse\u001b[1;34m(flavor, io, match, attrs, encoding, displayed_only, **kwargs)\u001b[0m\n\u001b[0;32m    913\u001b[0m retained \u001b[38;5;241m=\u001b[39m \u001b[38;5;28;01mNone\u001b[39;00m\n\u001b[0;32m    914\u001b[0m \u001b[38;5;28;01mfor\u001b[39;00m flav \u001b[38;5;129;01min\u001b[39;00m flavor:\n\u001b[1;32m--> 915\u001b[0m     parser \u001b[38;5;241m=\u001b[39m \u001b[43m_parser_dispatch\u001b[49m\u001b[43m(\u001b[49m\u001b[43mflav\u001b[49m\u001b[43m)\u001b[49m\n\u001b[0;32m    916\u001b[0m     p \u001b[38;5;241m=\u001b[39m parser(io, compiled_match, attrs, encoding, displayed_only)\n\u001b[0;32m    918\u001b[0m     \u001b[38;5;28;01mtry\u001b[39;00m:\n",
      "File \u001b[1;32m~\\anaconda3\\lib\\site-packages\\pandas\\io\\html.py:864\u001b[0m, in \u001b[0;36m_parser_dispatch\u001b[1;34m(flavor)\u001b[0m\n\u001b[0;32m    862\u001b[0m \u001b[38;5;28;01mif\u001b[39;00m flavor \u001b[38;5;129;01min\u001b[39;00m (\u001b[38;5;124m\"\u001b[39m\u001b[38;5;124mbs4\u001b[39m\u001b[38;5;124m\"\u001b[39m, \u001b[38;5;124m\"\u001b[39m\u001b[38;5;124mhtml5lib\u001b[39m\u001b[38;5;124m\"\u001b[39m):\n\u001b[0;32m    863\u001b[0m     \u001b[38;5;28;01mif\u001b[39;00m \u001b[38;5;129;01mnot\u001b[39;00m _HAS_HTML5LIB:\n\u001b[1;32m--> 864\u001b[0m         \u001b[38;5;28;01mraise\u001b[39;00m \u001b[38;5;167;01mImportError\u001b[39;00m(\u001b[38;5;124m\"\u001b[39m\u001b[38;5;124mhtml5lib not found, please install it\u001b[39m\u001b[38;5;124m\"\u001b[39m)\n\u001b[0;32m    865\u001b[0m     \u001b[38;5;28;01mif\u001b[39;00m \u001b[38;5;129;01mnot\u001b[39;00m _HAS_BS4:\n\u001b[0;32m    866\u001b[0m         \u001b[38;5;28;01mraise\u001b[39;00m \u001b[38;5;167;01mImportError\u001b[39;00m(\u001b[38;5;124m\"\u001b[39m\u001b[38;5;124mBeautifulSoup4 (bs4) not found, please install it\u001b[39m\u001b[38;5;124m\"\u001b[39m)\n",
      "\u001b[1;31mImportError\u001b[0m: html5lib not found, please install it"
     ]
    }
   ],
   "source": [
    "StateArea = pd.read_csv('datasets/state_area.txt', delim_whitespace=True, names = ['state', 'area'], header = None)\n",
    "StateInfo = pd.merge(StateInfo, StateArea, on = 'state')\n",
    "StateCoordinates = pd.read_html('https://developers.google.com/public-data/docs/canonical/states_csv')\n",
    "StateCoordinates = StateCoordinates[0]\n",
    "StateInfo = pd.merge(StateCoordinates, StateInfo, on = 'state')\n",
    "StatePopulation = pd.read_html('https://www.infoplease.com/us/states/state-population-by-rank')\n",
    "StatePopulation = StatePopulation[0]\n",
    "StatePopulation = StatePopulation.rename(columns = {'State':'name_y'})\n",
    "StatePopulation = StatePopulation.rename(columns = {'2020 Census':'Population'})\n",
    "StateInfo = pd.merge(StateInfo, StatePopulation, on = 'name_y')"
   ]
  },
  {
   "cell_type": "code",
   "execution_count": null,
   "id": "69c50051",
   "metadata": {},
   "outputs": [],
   "source": [
    "StateInfo\n",
    "\n",
    "# fips\n",
    "# FIPS code"
   ]
  },
  {
   "cell_type": "code",
   "execution_count": null,
   "id": "db677869",
   "metadata": {},
   "outputs": [],
   "source": [
    "StateInfo= StateInfo.drop(['notes', 'covid19Site', 'covid19SiteSecondary', 'covid19SiteTertiary', 'covid19SiteQuaternary', 'covid19SiteQuinary', 'twitter', 'covid19SiteOld', 'covidTrackingProjectPreferredTotalTestUnits', 'covidTrackingProjectPreferredTotalTestField', 'totalTestResultsField', 'pui', 'pum', 'name_y', 'Rank'], axis = 1)\n",
    "StateInfo = StateInfo.rename(columns = {'name_x':'State Name','Percent of Total': 'Percentage of total US population'})"
   ]
  },
  {
   "cell_type": "code",
   "execution_count": null,
   "id": "30abcd4b",
   "metadata": {},
   "outputs": [],
   "source": [
    "StateInfo"
   ]
  },
  {
   "cell_type": "markdown",
   "id": "58936e45",
   "metadata": {},
   "source": [
    "Added data containing state area and state location. \n",
    "\n",
    "State area: https://people.sc.fsu.edu/~jburkardt/datasets/states/states.html \n",
    "\n",
    "State location: 'https://developers.google.com/public-data/docs/canonical/states_csv \n",
    "\n",
    "Adults at Higher Risk of Serious Illness if Infected with Coronavirus: https://www.kff.org/report-section/state-covid-19-data-and-policy-actions-policy-actions/#policyactions\n",
    "\n",
    "Health Care Provider Capacity:https://www.kff.org/report-section/state-covid-19-data-and-policy-actions-policy-actions/#policyactions \n",
    "\n",
    "Critical Care Workforce:https://www.kff.org/report-section/state-covid-19-data-and-policy-actions-policy-actions/#policyactions \n",
    "\n",
    "Private Insurance Deductibles and Self-Insured Plans: https://www.kff.org/report-section/state-covid-19-data-and-policy-actions-policy-actions/#policyactions\n",
    "\n",
    "Influenza and Pneumonia Deaths and Vaccinations: https://www.kff.org/report-section/state-covid-19-data-and-policy-actions-policy-actions/#policyactions\n",
    "\n",
    "Population Distribution by Race/Ethnicity: https://www.kff.org/other/state-indicator/distribution-by-raceethnicity/?currentTimeframe=0&sortModel=%7B%22colId%22:%22Location%22,%22sort%22:%22asc%22%7D"
   ]
  },
  {
   "cell_type": "code",
   "execution_count": null,
   "id": "de8e0462",
   "metadata": {},
   "outputs": [],
   "source": [
    "df1 = pd.read_csv('datasets/Adults at Higher Risk of Serious Illness if Infected with Coronavirus.csv', header =2 )\n",
    "df2 = pd.read_csv('datasets/Health Care Provider Capacity.csv', header =2 )\n",
    "df3 = pd.read_csv('datasets/Critical Care Workforce.csv', header =2 )\n",
    "df4 = pd.read_csv('datasets/Private Insurance Deductibles and Self-Insured Plan.csv', header =2 )\n",
    "df5 = pd.read_csv('datasets/Influenza and Pneumonia Deaths and Vaccinations.csv', header =2 )\n",
    "df6 = pd.read_csv('datasets/Population Distribution by RaceEthnicity.csv', header =2 )\n",
    "df7 = pd.read_excel('datasets/Median Household Income.xlsx', header =13 )"
   ]
  },
  {
   "cell_type": "code",
   "execution_count": null,
   "id": "50654f35",
   "metadata": {},
   "outputs": [],
   "source": [
    "df1 = df1.drop([0,52,53,54,55,56,57], axis = 0)\n",
    "df1 = df1.drop(['Footnotes'], axis = 1)\n",
    "df2 = df2.drop(df2.tail(10).index)\n",
    "df2 = df2.drop([0])\n",
    "df2 = df2.drop(['Footnotes'], axis = 1)\n",
    "df3 = df3.drop(df3.tail(15).index)\n",
    "df3 = df3.drop([0])\n",
    "df3 = df3.drop(['Footnotes'], axis = 1)\n",
    "df4 = df4.drop(df4.tail(15).index)\n",
    "df4 = df4.drop([0])\n",
    "df4 = df4.drop(['Footnotes'], axis = 1)\n",
    "df5 = df5.drop(df5.tail(14).index)\n",
    "df5 = df5.drop([0])\n",
    "df5 = df5.drop(['Footnotes'], axis = 1)\n",
    "df6 = df6.drop(df6.tail(13).index)\n",
    "df6 = df6.drop([0])\n",
    "df6 = df6.drop(['Footnotes'], axis = 1)"
   ]
  },
  {
   "cell_type": "code",
   "execution_count": null,
   "id": "db552eee",
   "metadata": {},
   "outputs": [],
   "source": [
    "hh_df = pd.read_excel('datasets/Median Household Income.xlsx', header =8 )"
   ]
  },
  {
   "cell_type": "code",
   "execution_count": null,
   "id": "475727db",
   "metadata": {},
   "outputs": [],
   "source": [
    "hh_df.drop(hh_df.index[0],inplace= True) \n",
    "hh_df.drop(hh_df.index[9],inplace= True) \n",
    "hh_df.drop(hh_df.index[51:116],inplace= True) \n",
    "hh_df.drop(hh_df.columns[4:81],inplace= True, axis=1)  \n",
    "hh_df.drop(hh_df.columns[2],inplace= True, axis=1) "
   ]
  },
  {
   "cell_type": "code",
   "execution_count": null,
   "id": "476129b5",
   "metadata": {
    "scrolled": true
   },
   "outputs": [],
   "source": [
    "median_income_2020 = hh_df['Median income.1'].tolist\n",
    "print(hh_df)\n"
   ]
  },
  {
   "cell_type": "code",
   "execution_count": null,
   "id": "3e28864f",
   "metadata": {
    "scrolled": true
   },
   "outputs": [],
   "source": [
    "#Merge dataframes \n",
    "merge = [df1,df2,df3,df4,df5,df6]\n",
    "for df in merge:\n",
    "    StateInfo = pd.merge(StateInfo,df, left_on = 'State Name', right_on = 'Location')"
   ]
  },
  {
   "cell_type": "code",
   "execution_count": null,
   "id": "be5ae0a1",
   "metadata": {},
   "outputs": [],
   "source": [
    "#Merge dataframes \n",
    "merge = [hh_df]\n",
    "for df1 in merge:\n",
    "    StateInfo = pd.merge(StateInfo,df1, left_on = 'State Name', right_on = 'Unnamed: 0')"
   ]
  },
  {
   "cell_type": "code",
   "execution_count": null,
   "id": "e3b37018",
   "metadata": {},
   "outputs": [],
   "source": [
    "new_keys = StateInfo['Percentage of total US population'].str.rstrip('%')\n",
    "StateInfo['Percentage of total US population'] = pd.to_numeric(new_keys)\n",
    "StateInfo = StateInfo.rename(columns = {'Median income':'Median Household Income 2021'})\n",
    "StateInfo = StateInfo.rename(columns = {'Median income.1':'Median Household Income 2020'})\n",
    "StateInfo= StateInfo.drop(['Unnamed: 0'], axis = 1)"
   ]
  },
  {
   "cell_type": "code",
   "execution_count": null,
   "id": "969ece79",
   "metadata": {},
   "outputs": [],
   "source": [
    "StateInfo.drop(['Total', 'Location_x'], inplace = True, axis = 1)\n",
    "StateInfo = StateInfo.loc[:,~StateInfo.columns.duplicated()]"
   ]
  },
  {
   "cell_type": "code",
   "execution_count": null,
   "id": "418829f5",
   "metadata": {},
   "outputs": [],
   "source": [
    "StateInfo.to_csv('StateInfo.csv')"
   ]
  },
  {
   "cell_type": "code",
   "execution_count": null,
   "id": "85e30879",
   "metadata": {},
   "outputs": [],
   "source": [
    "StateInfo"
   ]
  },
  {
   "cell_type": "markdown",
   "id": "ef59a44f",
   "metadata": {},
   "source": [
    "MOST RECENT STATE COVID HISTORY DATA"
   ]
  },
  {
   "cell_type": "code",
   "execution_count": null,
   "id": "732c70c8",
   "metadata": {},
   "outputs": [],
   "source": [
    "res = requests.get('https://api.covidtracking.com/v1/states/daily.csv')\n",
    "data = StringIO(res.text)\n",
    "StateHistory = pd.read_csv(data)"
   ]
  },
  {
   "cell_type": "code",
   "execution_count": null,
   "id": "a04b3a41",
   "metadata": {},
   "outputs": [],
   "source": [
    "StateHistory"
   ]
  },
  {
   "cell_type": "code",
   "execution_count": null,
   "id": "f46b3d70",
   "metadata": {},
   "outputs": [],
   "source": [
    "StateHistory = StateHistory[['state','date','death', 'positiveCasesViral', 'positive', 'positiveIncrease']]\n",
    "StateHistory\n",
    "\n",
    "# Info:\n",
    "# positiveCasesViral: Confirmed Cases\n",
    "\n",
    "# Total number of unique people with a positive PCR or other approved nucleic acid amplification test (NAAT), \n",
    "# as reported by the state or territory. This is equivalent to a confirmed case as per the CSTE case definitions of \n",
    "# August 5th, 2020 and April 5th, 2020. If we discover a jurisdiction is labeling cases as confirmed using other evidence \n",
    "# (e.g. positive antigen tests), we will annotate that state or territory’s data accordingly.\n",
    "\n",
    "# positive: Cases (confirmed plus probable)\n",
    "\n",
    "# Total number of confirmed plus probable cases of COVID-19 reported by the state or territory, ideally per the \n",
    "# August 5, 2020 CSTE case definition. Some states are following the older April 5th, 2020 CSTE case definition or using \n",
    "# their own custom definitions. Not all states and territories report probable cases. If a state is not reporting probable \n",
    "# cases, this field will just represent confirmed cases.\n",
    "\n",
    "# positiveIncrease: New cases\n",
    "\n",
    "# The daily increase in API field positive, which measures Cases (confirmed plus probable) calculated based \n",
    "# on the previous day’s value."
   ]
  },
  {
   "cell_type": "code",
   "execution_count": null,
   "id": "8a9e643d",
   "metadata": {},
   "outputs": [],
   "source": [
    "StatePolicy = pd.read_excel('StatePolicy.xlsx', header=1)\n",
    "StatePolicy = StatePolicy[['State Abbreviation','Stay at home/ shelter in place','End/relax stay at home/shelter in place','Face mask mandate in public spaces','Ended face mask mandate']]\n",
    "StatePolicy.drop(StatePolicy.index[0:3],inplace= True) \n",
    "StatePolicy.drop(StatePolicy.index[51],inplace= True) \n",
    "\n",
    "df = StatePolicy\n",
    "df.head()\n",
    "# StatePolicy.index[2]\n",
    "StatePolicy.columns[2]"
   ]
  },
  {
   "cell_type": "code",
   "execution_count": null,
   "id": "0f3da6c3",
   "metadata": {},
   "outputs": [],
   "source": [
    "StatePolicy"
   ]
  },
  {
   "cell_type": "code",
   "execution_count": null,
   "id": "1ad99342",
   "metadata": {},
   "outputs": [],
   "source": [
    "df['Stay at home/ shelter in place'] = pd.to_datetime(df['Stay at home/ shelter in place'], errors='coerce')\n",
    "df['End/relax stay at home/shelter in place'] = pd.to_datetime(df['End/relax stay at home/shelter in place'], errors='coerce')\n",
    "df['Face mask mandate in public spaces'] = pd.to_datetime(df['Face mask mandate in public spaces'], errors='coerce')\n",
    "df['Ended face mask mandate'] = pd.to_datetime(df['Ended face mask mandate'], errors='coerce')\n",
    "\n",
    "# What is errors =' coerce in Python?\n",
    "# If 'coerce', then invalid parsing will be set as NaN. If 'ignore', then invalid parsing will return the input.\n"
   ]
  },
  {
   "cell_type": "code",
   "execution_count": null,
   "id": "498a15ef",
   "metadata": {},
   "outputs": [],
   "source": [
    "df.head()"
   ]
  },
  {
   "cell_type": "code",
   "execution_count": null,
   "id": "e33ddf61",
   "metadata": {},
   "outputs": [],
   "source": [
    "today = datetime.date.today()\n",
    "t = datetime.time(0, 0)\n",
    "Today = datetime.datetime.combine(today, t)"
   ]
  },
  {
   "cell_type": "code",
   "execution_count": null,
   "id": "52276868",
   "metadata": {},
   "outputs": [],
   "source": [
    "StatePolicy['Stay at home/ shelter in place'].replace({'-': Today}, inplace = True)\n",
    "StatePolicy['End/relax stay at home/shelter in place'].replace({'-': Today}, inplace = True)"
   ]
  },
  {
   "cell_type": "code",
   "execution_count": null,
   "id": "5a4a6cd3",
   "metadata": {},
   "outputs": [],
   "source": [
    "df['state_policy'] = StatePolicy['Stay at home/ shelter in place'] \n",
    "print(df.columns)\n",
    "# df['Stay at home/ shelter in place'] = pd.to_datetime(df['Stay at home/ shelter in place']).dt.date\n",
    "#  = pd.to_datetime(df['date']).dt.date\n",
    "# StatePolicy['Stay at home/ shelter in place'] = pd.to_datetime(StatePolicy['Stay at home/ shelter in place']).dt.date"
   ]
  },
  {
   "cell_type": "code",
   "execution_count": null,
   "id": "0d4e7325",
   "metadata": {},
   "outputs": [],
   "source": [
    "StateHistory = StateHistory.merge(StatePolicy, left_on = 'state', right_on='State Abbreviation')"
   ]
  },
  {
   "cell_type": "code",
   "execution_count": null,
   "id": "a9f8355c",
   "metadata": {},
   "outputs": [],
   "source": [
    "temp = pd.to_datetime(StateHistory['date'], format = '%Y%m%d')\n",
    "StateHistory['date'] = temp"
   ]
  },
  {
   "cell_type": "code",
   "execution_count": null,
   "id": "9158fbd4",
   "metadata": {},
   "outputs": [],
   "source": [
    "df = StatePolicy['Stay at home/ shelter in place'] "
   ]
  },
  {
   "cell_type": "code",
   "execution_count": null,
   "id": "ef873745",
   "metadata": {},
   "outputs": [],
   "source": [
    "StateHistory.to_csv('StateHistory.csv')"
   ]
  },
  {
   "cell_type": "code",
   "execution_count": null,
   "id": "6bd0de74",
   "metadata": {},
   "outputs": [],
   "source": [
    "StateHistory"
   ]
  }
 ],
 "metadata": {
  "kernelspec": {
   "display_name": "Python 3 (ipykernel)",
   "language": "python",
   "name": "python3"
  },
  "language_info": {
   "codemirror_mode": {
    "name": "ipython",
    "version": 3
   },
   "file_extension": ".py",
   "mimetype": "text/x-python",
   "name": "python",
   "nbconvert_exporter": "python",
   "pygments_lexer": "ipython3",
   "version": "3.10.9"
  },
  "vscode": {
   "interpreter": {
    "hash": "feabd682d07e1de51ad16ab4c1d1a4968bc1b5ada19ac01ce8b5d3e05f7cf136"
   }
  }
 },
 "nbformat": 4,
 "nbformat_minor": 5
}
